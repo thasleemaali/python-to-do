{
 "cells": [
  {
   "cell_type": "code",
   "execution_count": 1,
   "id": "34c1606e",
   "metadata": {},
   "outputs": [
    {
     "name": "stdout",
     "output_type": "stream",
     "text": [
      "Number of rolls to get a 6: 1\n"
     ]
    }
   ],
   "source": [
    "import random\n",
    "\n",
    "count = 0\n",
    "while True:\n",
    "    dice_roll = random.randint(1, 6)\n",
    "    count += 1\n",
    "    if dice_roll == 6:\n",
    "        break\n",
    "\n",
    "print(\"Number of rolls to get a 6:\", count)"
   ]
  },
  {
   "cell_type": "code",
   "execution_count": null,
   "id": "2a60dd52",
   "metadata": {},
   "outputs": [],
   "source": []
  }
 ],
 "metadata": {
  "kernelspec": {
   "display_name": "Python 3 (ipykernel)",
   "language": "python",
   "name": "python3"
  },
  "language_info": {
   "codemirror_mode": {
    "name": "ipython",
    "version": 3
   },
   "file_extension": ".py",
   "mimetype": "text/x-python",
   "name": "python",
   "nbconvert_exporter": "python",
   "pygments_lexer": "ipython3",
   "version": "3.11.5"
  }
 },
 "nbformat": 4,
 "nbformat_minor": 5
}
